{
 "cells": [
  {
   "cell_type": "code",
   "execution_count": 1,
   "metadata": {},
   "outputs": [],
   "source": [
    "import requests\n",
    "import pandas as pd\n",
    "import bs4\n",
    "from bs4 import BeautifulSoup as bs"
   ]
  },
  {
   "cell_type": "code",
   "execution_count": 34,
   "metadata": {},
   "outputs": [],
   "source": [
    "url= 'https://en.glosbe.com/en/mr/{}'.format('India')\n",
    "# url1 = 'https://thesaurus.yourdictionary.com/{}'.format('india')"
   ]
  },
  {
   "cell_type": "code",
   "execution_count": null,
   "metadata": {},
   "outputs": [],
   "source": []
  },
  {
   "cell_type": "code",
   "execution_count": 123,
   "metadata": {},
   "outputs": [
    {
     "name": "stdout",
     "output_type": "stream",
     "text": [
      "https://en.glosbe.com/en/mr/india\n"
     ]
    }
   ],
   "source": [
    "# print(url)\n",
    "url = \"https://en.glosbe.com/en/mr/india\"\n",
    "print(url)\n",
    "headers = {'User-Agent': 'Mozilla/5.0 (Macintosh; Intel Mac OS X 10_10_1) AppleWebKit/537.36 (KHTML, like Gecko) Chrome/39.0.2171.95 Safari/537.36'}\n",
    "response = requests.get(url, headers=headers).text\n",
    "soup = bs(response,\"html.parser\")"
   ]
  },
  {
   "cell_type": "code",
   "execution_count": 172,
   "metadata": {},
   "outputs": [
    {
     "name": "stdout",
     "output_type": "stream",
     "text": [
      "https://en.glosbe.com/en/mr/funeral\n",
      "['मुडदा', 'प्रेतयात्रा', 'स्मशानयात्रा', 'काळा'] [['\\nBut in many parts of Africa, hundreds who attend the funeral descend on the home of the deceased and expect a feast, where animals are often sacrificed.\\n', '\\nपण आफ्रिकेच्या अनेक भागांत अंत्यविधीला आलेले शेकडो लोक आमंत्रण नसताना मृत व्यक्तीच्या घरी येऊन थडकतात आणि मेजवानीची अपेक्षा करतात; प्रसंगी पशूंचाही बली दिला जातो.\\n'], ['\\nI remember standing in the funeral home 20 years ago, looking at my dear dad and coming to a true heartfelt appreciation for the ransom.\\n', '\\nमला अजूनही आठवतं, २० वर्षांपूर्वी कब्रस्थानात बाबांच्या मृतदेहाकडे मी पाहत उभी होते तेव्हा मला खंडणीची खरी किंमत समजली होती.\\n'], ['\\n6:14-16) What happens at a Christian funeral should not disturb the consciences of fellow believers or stumble others who know what we believe and teach about the dead.\\n', '\\n६:१४-१६) एखाद्या साक्षीदाराच्या अंत्यविधीत जे घडते त्यामुळे सह विश्वासू बांधवांच्या विवेकाला धक्का बसू नये किंवा मृतांबद्दल आपले विश्वास व शिकवणी माहीत असलेल्या इतरांना ते अडखळण्याचे कारण ठरू नये.\\n'], ['\\nThe minister may also want to consider the purpose of a funeral service.\\n', '\\nअंत्यविधीच्या वेळी भाषण देण्यामागचा हेतू काय आहे यावरही तो कदाचित विचार करील.\\n']]\n"
     ]
    }
   ],
   "source": [
    "def TransMR(word):\n",
    "    url = \"https://en.glosbe.com/en/mr/{}\".format(word)\n",
    "    print(url)\n",
    "    headers = {'User-Agent': 'Mozilla/5.0 (Macintosh; Intel Mac OS X 10_10_1) AppleWebKit/537.36 (KHTML, like Gecko) Chrome/39.0.2171.95 Safari/537.36'}\n",
    "    response = requests.get(url, headers=headers).text\n",
    "    soup = bs(response,\"html.parser\")\n",
    "    mr_trans = []\n",
    "    for i in soup.findAll('li',class_='translation__item'):\n",
    "        mr_trans.append(i.find('h3','translation').text.strip())\n",
    "    if len(mr_trans)<1:\n",
    "        guess_trans = []\n",
    "        for i in soup.findAll('li',class_='py-4'):\n",
    "            guess_trans.append(i.find('button','font-medium').text.strip()) \n",
    "        mr_trans = guess_trans[:4]\n",
    "    for i in soup.findAll('div',{\"id\":'tmem_first_examples'}):\n",
    "        ex_english = i.findAll('div',{\"class\":\"w-1/2 pr-2\"})\n",
    "        ex_marathi = i.findAll('div',{\"class\":\"w-1/2 relative pl-2\"})\n",
    "    example = list (map ( lambda x,y: [x.text, y.text], ex_english, ex_marathi))[:4]\n",
    "    return mr_trans, example\n",
    "\n",
    "\n",
    "word = \"funeral\"\n",
    "mr_trans, example = TransMR(word)\n",
    "print(mr_trans, example)"
   ]
  },
  {
   "cell_type": "code",
   "execution_count": 129,
   "metadata": {},
   "outputs": [
    {
     "data": {
      "text/plain": [
       "['भारत', 'भारत', 'Bhārat']"
      ]
     },
     "execution_count": 129,
     "metadata": {},
     "output_type": "execute_result"
    }
   ],
   "source": [
    "mr_trans = []\n",
    "for i in soup.findAll('li',class_='translation__item'):\n",
    "    mr_trans.append(i.find('h3','translation').text.strip())\n",
    "mr_trans"
   ]
  },
  {
   "cell_type": "code",
   "execution_count": 122,
   "metadata": {},
   "outputs": [
    {
     "name": "stdout",
     "output_type": "stream",
     "text": [
      "https://glosbe.com/fb_img/80x80/2m256886_India_-28orthographic_projection-29.svg\n",
      "https://glosbe.com/fb_img/80x80/K3333083_Location_India.svg\n"
     ]
    }
   ],
   "source": [
    "img = []\n",
    "for i in soup.findAll('button',class_='glosbe-image'):\n",
    "    img.append(i.find('img')['src'])"
   ]
  },
  {
   "cell_type": "code",
   "execution_count": 127,
   "metadata": {},
   "outputs": [
    {
     "name": "stdout",
     "output_type": "stream",
     "text": [
      "['\\nThe Govt. of India is committed to improve its legal framework relating to Arbitration.\\n', '\\nभारत सरकार मध्यस्ततेची न्यायिक चौकट सुधारण्यासाठी कटिबद्ध आहे.\\n']\n"
     ]
    }
   ],
   "source": [
    "\n",
    "for i in soup.findAll('div',{\"id\":'tmem_first_examples'}):\n",
    "    ex_english = i.findAll('div',{\"class\":\"w-1/2 pr-2\"})\n",
    "    ex_marathi = i.findAll('div',{\"class\":\"w-1/2 relative pl-2\"})\n",
    "example = list (map ( lambda x,y: [x.text, y.text], ex_english, ex_marathi))\n",
    "print(example[0])"
   ]
  },
  {
   "cell_type": "code",
   "execution_count": null,
   "metadata": {},
   "outputs": [],
   "source": []
  },
  {
   "cell_type": "code",
   "execution_count": null,
   "metadata": {},
   "outputs": [],
   "source": [
    "def TransMR(word):\n",
    "    url = \"https://en.glosbe.com/en/mr/{}\".format(word)\n",
    "    print(url)\n",
    "    headers = {'User-Agent': 'Mozilla/5.0 (Macintosh; Intel Mac OS X 10_10_1) AppleWebKit/537.36 (KHTML, like Gecko) Chrome/39.0.2171.95 Safari/537.36'}\n",
    "    response = requests.get(url, headers=headers).text\n",
    "    soup = bs(response,\"html.parser\")\n",
    "    mr_trans = []\n",
    "    for i in soup.findAll('li',class_='translation__item'):\n",
    "        mr_trans.append(i.find('h3','translation').text.strip())\n",
    "    imgs = []\n",
    "    for i in soup.findAll('button',class_='glosbe-image'):\n",
    "        imgs.append(i.find('img')['src'])\n",
    "    for i in soup.findAll('div',{\"id\":'tmem_first_examples'}):\n",
    "        ex_english = i.findAll('div',{\"class\":\"w-1/2 pr-2\"})\n",
    "        ex_marathi = i.findAll('div',{\"class\":\"w-1/2 relative pl-2\"})\n",
    "    example = list (map ( lambda x,y: [x.text, y.text], ex_english, ex_marathi))\n",
    "    return mr_trans, imgs, example\n",
    "\n",
    "\n",
    "word = \"horse\""
   ]
  },
  {
   "cell_type": "code",
   "execution_count": 133,
   "metadata": {},
   "outputs": [],
   "source": [
    "url= 'https://www.yourdictionary.com/{}'.format('india')\n",
    "url1 = 'https://thesaurus.yourdictionary.com/{}'.format('india')"
   ]
  },
  {
   "cell_type": "code",
   "execution_count": 155,
   "metadata": {},
   "outputs": [],
   "source": [
    "class TransMR:\n",
    "    def __init__(self, word):\n",
    "        self.word = word\n",
    "        \n",
    "    def TransMR(word):\n",
    "        word = self.word\n",
    "        url = \"https://en.glosbe.com/en/mr/{}\".format(word)\n",
    "        print(url)\n",
    "        headers = {'User-Agent': 'Mozilla/5.0 (Macintosh; Intel Mac OS X 10_10_1) AppleWebKit/537.36 (KHTML, like Gecko) Chrome/39.0.2171.95 Safari/537.36'}\n",
    "        response = requests.get(url, headers=headers).text\n",
    "        soup = bs(response,\"html.parser\")\n",
    "        mr_trans = []\n",
    "        for i in soup.findAll('li',class_='translation__item'):\n",
    "            mr_trans.append(i.find('h3','translation').text.strip())\n",
    "        for i in soup.findAll('div',{\"id\":'tmem_first_examples'}):\n",
    "            ex_english = i.findAll('div',{\"class\":\"w-1/2 pr-2\"})\n",
    "            ex_marathi = i.findAll('div',{\"class\":\"w-1/2 relative pl-2\"})\n",
    "        example = list (map ( lambda x,y: [x.text, y.text], ex_english, ex_marathi))[:4]\n",
    "        return mr_trans, example\n",
    "\n",
    "\n",
    "class TransEG:\n",
    "    def __init__(self, word):\n",
    "        self.word = word\n",
    "\n",
    "    def TransEG_mean(self):\n",
    "        word = self.word\n",
    "        url= 'https://www.yourdictionary.com/{}'.format(word)\n",
    "        print(url)\n",
    "        response = requests.get(url, headers=headers).text\n",
    "        soup = bs(response,\"html.parser\")\n",
    "        data = soup.find_all('div',class_='definition flex-align-self-center')\n",
    "        meaning, c=[], 0\n",
    "        for i in data:\n",
    "            if(c<5):\n",
    "                meaning.append(i.text.strip())\n",
    "                c+=1\n",
    "            else:\n",
    "                pass\n",
    "        return meaning\n",
    "    \n",
    "    def TransEG_syn(self):\n",
    "        word = self.word\n",
    "        url= 'https://thesaurus.yourdictionary.com/{}'.format(word)\n",
    "        print(url)\n",
    "        response = requests.get(url, headers=headers).text\n",
    "        soup = bs(response,\"html.parser\")\n",
    "        data = soup.find_all('div',class_='definition flex-align-self-center')\n",
    "        synonyms, c=[], 0\n",
    "        for i in soup.find_all('div', class_='synonym-link-wrapper'):\n",
    "            if(c<5):\n",
    "                synonyms.append(i.text.strip())\n",
    "                c+=1\n",
    "            else:\n",
    "                pass\n",
    "        return synonyms\n",
    "    \n",
    "    def TransEG_exmple(self):\n",
    "        word = self.word\n",
    "        url= 'https://sentence.yourdictionary.com/{}'.format(word)\n",
    "        print(url)\n",
    "        response = requests.get(url, headers=headers).text\n",
    "        soup = bs(response,\"html.parser\")\n",
    "        data = soup.find_all('div',class_='definition flex-align-self-center')\n",
    "        meaning, c=[], 0\n",
    "        for i in soup.find_all('div', class_='sentence-item'):\n",
    "            if(c<5):\n",
    "                meaning.append(i.text.strip())\n",
    "                c+=1\n",
    "            else:\n",
    "                pass\n",
    "        return meaning\n",
    "    \n",
    "    "
   ]
  },
  {
   "cell_type": "code",
   "execution_count": 160,
   "metadata": {},
   "outputs": [
    {
     "name": "stdout",
     "output_type": "stream",
     "text": [
      "https://www.yourdictionary.com/india\n"
     ]
    },
    {
     "data": {
      "text/plain": [
       "['A peninsula and subcontinent of southern Asia south of the Himalaya Mountains, occupied by India, Nepal, Bhutan, Pakistan, and Bangladesh.',\n",
       " '(place) Region in S Asia, south of the Himalayas, including a large peninsula between the Arabian Sea & the Bay of Bengal: it contains the republic of India, Pakistan, Bangladesh, Nepal, & Bhutan.',\n",
       " 'A country of southern Asia covering most of the Indian subcontinent. Aryans from the northwest invaded c. 1500 bc , pushing Dravidian and other peoples to the south. Most of India was unified by the emperor Asoka in the 3rd century bc . It experienced a golden age in the 4th and 5th centuries ad before being invaded c. 1000 by Muslims and later by the Mongol conqueror Baber, who established the Mughal empire (1526–1857). Various European powers established trading posts in the 16th and 17th centuries, with the British East India Company assuming authority over most of the country by the early 19th century. A widespread rebellion sparked by the mutiny of native troops in 1857 led to the establishment of direct rule by the British crown in 1858. In the 20th century, India gained its independence from Great Britain (1947) following a campaign of civil disobedience led by the pacifist Mohandas Gandhi. Its concomitant partition into the separate countries of India and Pakistan resulted in a tumultuous migration of Muslims to Pakistan and Hindus and Sikhs to India in which approximately one million people died. New Delhi is the capital, and Mumbai is the largest city.']"
      ]
     },
     "execution_count": 160,
     "metadata": {},
     "output_type": "execute_result"
    }
   ],
   "source": [
    "TEG = TransEG(\"india\")\n",
    "TEG.TransEG_mean()\n",
    "# TEG.TransEG_syn()\n",
    "# TEG.TransEG_exmple()\n"
   ]
  },
  {
   "cell_type": "code",
   "execution_count": 161,
   "metadata": {},
   "outputs": [
    {
     "name": "stdout",
     "output_type": "stream",
     "text": [
      "https://thesaurus.yourdictionary.com/india\n"
     ]
    },
    {
     "data": {
      "text/plain": [
       "['Bharat (Hindi)', 'hindustan', 'Jewel in the Crown', 'bharat', 'Mother India']"
      ]
     },
     "execution_count": 161,
     "metadata": {},
     "output_type": "execute_result"
    }
   ],
   "source": [
    "TEG = TransEG(\"india\")\n",
    "# TEG.TransEG_mean()\n",
    "TEG.TransEG_syn()\n",
    "# TEG.TransEG_exmple()\n"
   ]
  },
  {
   "cell_type": "code",
   "execution_count": 162,
   "metadata": {},
   "outputs": [
    {
     "name": "stdout",
     "output_type": "stream",
     "text": [
      "https://sentence.yourdictionary.com/india\n"
     ]
    },
    {
     "data": {
      "text/plain": [
       "['As regards their present distribution in India, elephants are found along the foot of the Himalaya as far west as the valley of Dehra-Dun, where the winter temperature falls to a comparatively low point.',\n",
       " 'The centre of interest now shifts to the India House and to the British parliament.',\n",
       " 'The manufacture is chiefly carried out in India, Persia and the Balkans; the last named supplying the bulk of the European demand.',\n",
       " 'Start with India, which has more chronically hungry people than any other country.',\n",
       " 'Meanwhile, the affairs of the East India Company had come under the consideration of parliament.']"
      ]
     },
     "execution_count": 162,
     "metadata": {},
     "output_type": "execute_result"
    }
   ],
   "source": [
    "TEG = TransEG(\"india\")\n",
    "# TEG.TransEG_mean()\n",
    "# TEG.TransEG_syn()\n",
    "TEG.TransEG_exmple()\n"
   ]
  },
  {
   "cell_type": "code",
   "execution_count": 147,
   "metadata": {},
   "outputs": [
    {
     "name": "stdout",
     "output_type": "stream",
     "text": [
      "https://thesaurus.yourdictionary.com/india\n"
     ]
    },
    {
     "data": {
      "text/plain": [
       "['Bharat (Hindi)', 'hindustan', 'Jewel in the Crown', 'bharat', 'Mother India']"
      ]
     },
     "execution_count": 147,
     "metadata": {},
     "output_type": "execute_result"
    }
   ],
   "source": [
    "word = \"india\"\n",
    "TransEG_syn(word)"
   ]
  },
  {
   "cell_type": "code",
   "execution_count": 143,
   "metadata": {},
   "outputs": [
    {
     "name": "stdout",
     "output_type": "stream",
     "text": [
      "https://www.yourdictionary.com/india\n"
     ]
    },
    {
     "data": {
      "text/plain": [
       "['A peninsula and subcontinent of southern Asia south of the Himalaya Mountains, occupied by India, Nepal, Bhutan, Pakistan, and Bangladesh.',\n",
       " '(place) Region in S Asia, south of the Himalayas, including a large peninsula between the Arabian Sea & the Bay of Bengal: it contains the republic of India, Pakistan, Bangladesh, Nepal, & Bhutan.',\n",
       " 'A country of southern Asia covering most of the Indian subcontinent. Aryans from the northwest invaded c. 1500 bc , pushing Dravidian and other peoples to the south. Most of India was unified by the emperor Asoka in the 3rd century bc . It experienced a golden age in the 4th and 5th centuries ad before being invaded c. 1000 by Muslims and later by the Mongol conqueror Baber, who established the Mughal empire (1526–1857). Various European powers established trading posts in the 16th and 17th centuries, with the British East India Company assuming authority over most of the country by the early 19th century. A widespread rebellion sparked by the mutiny of native troops in 1857 led to the establishment of direct rule by the British crown in 1858. In the 20th century, India gained its independence from Great Britain (1947) following a campaign of civil disobedience led by the pacifist Mohandas Gandhi. Its concomitant partition into the separate countries of India and Pakistan resulted in a tumultuous migration of Muslims to Pakistan and Hindus and Sikhs to India in which approximately one million people died. New Delhi is the capital, and Mumbai is the largest city.']"
      ]
     },
     "execution_count": 143,
     "metadata": {},
     "output_type": "execute_result"
    }
   ],
   "source": [
    "word = \"india\"\n",
    "TransEG_mean(word)"
   ]
  },
  {
   "cell_type": "code",
   "execution_count": 139,
   "metadata": {},
   "outputs": [],
   "source": [
    "meaning=[]\n",
    "c = 0\n",
    "for i in data:\n",
    "    if(c<3):\n",
    "        meaning.append(i.text.strip())\n",
    "        c+=1\n",
    "    else:\n",
    "        pass"
   ]
  },
  {
   "cell_type": "code",
   "execution_count": 140,
   "metadata": {},
   "outputs": [
    {
     "data": {
      "text/plain": [
       "['A domesticated carnivorous mammal (Canis familiaris syn. Canis lupus subsp. familiaris) occurring as a wide variety of breeds, many of which are traditionally used for hunting, herding, drawing sleds, and other tasks, and are kept as pets.',\n",
       " 'To hold or fasten with a mechanical device.']"
      ]
     },
     "execution_count": 140,
     "metadata": {},
     "output_type": "execute_result"
    }
   ],
   "source": [
    "meaning"
   ]
  },
  {
   "cell_type": "code",
   "execution_count": null,
   "metadata": {},
   "outputs": [],
   "source": []
  },
  {
   "cell_type": "code",
   "execution_count": null,
   "metadata": {},
   "outputs": [],
   "source": []
  },
  {
   "cell_type": "code",
   "execution_count": null,
   "metadata": {},
   "outputs": [],
   "source": []
  },
  {
   "cell_type": "code",
   "execution_count": null,
   "metadata": {},
   "outputs": [],
   "source": []
  }
 ],
 "metadata": {
  "kernelspec": {
   "display_name": "Python 3 (ipykernel)",
   "language": "python",
   "name": "python3"
  },
  "language_info": {
   "codemirror_mode": {
    "name": "ipython",
    "version": 3
   },
   "file_extension": ".py",
   "mimetype": "text/x-python",
   "name": "python",
   "nbconvert_exporter": "python",
   "pygments_lexer": "ipython3",
   "version": "3.8.5"
  }
 },
 "nbformat": 4,
 "nbformat_minor": 4
}
